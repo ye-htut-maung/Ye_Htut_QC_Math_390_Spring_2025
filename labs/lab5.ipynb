{
 "cells": [
  {
   "cell_type": "markdown",
   "id": "2b1538b0-f92b-48b9-be07-e9527576bc8b",
   "metadata": {},
   "source": [
    "## Course Assignment Instructions\n",
    "You should have Python (version 3.8 or later) and Jupyter Notebook installed to complete this assignment. You will write code in the empty cell/cells below the problem. While most of this will be a programming assignment, some questions will ask you to \"write a few sentences\" in markdown cells. \n",
    "\n",
    "Submission Instructions:\n",
    "\n",
    "Create a labs directory in your personal class repository (e.g., located in your home directory)\n",
    "Clone the class repository\n",
    "Copy this Jupyter notebook file (.ipynb) into your repo/labs directory\n",
    "Make your edits, commit changes, and push to your repository\n",
    "All submissions must be pushed before the due date to avoid late penalties. \n",
    "\n",
    "Labs are graded out of a 100 pts. Each day late is -10. For a max penalty of -50 after 5 days. From there you may submit the lab anytime before the semester ends for a max score of 50.  \n",
    "\n",
    "Lab 5 is due on 3/17/25"
   ]
  },
  {
   "cell_type": "markdown",
   "id": "baa0e89f-550b-4278-90c1-5b4d73c3d088",
   "metadata": {},
   "source": [
    "Write a function spec'd as follows:"
   ]
  },
  {
   "cell_type": "code",
   "execution_count": null,
   "id": "80200021-19e2-4bd1-bd14-705326161aee",
   "metadata": {},
   "outputs": [],
   "source": [
    "import numpy as np\n",
    "\n",
    "def norm_vec(x):\n",
    "    \"\"\"Compute the Euclidean norm of a vector.\"\"\"\n",
    "    return np.sqrt(np.sum(x**2))\n",
    "\n",
    "def orthogonal_projection(a, v):\n",
    "    \"\"\"\n",
    "    Projects vector a onto vector v.\n",
    "    \n",
    "    Parameters:\n",
    "        a (numpy.ndarray): The vector to project.\n",
    "        v (numpy.ndarray): The vector to project onto.\n",
    "    \n",
    "    Returns:\n",
    "        dict: A dictionary with keys:\n",
    "            'a_parallel': the projection of a onto v,\n",
    "            'a_perpendicular': the residual component of a orthogonal to v.\n",
    "    \"\"\"\n",
    "    # Ensure that a and v are numpy arrays\n",
    "    a = np.asarray(a)\n",
    "    v = np.asarray(v)\n",
    "    \n",
    "    # Compute the squared norm of v\n",
    "    v_norm_sq = norm_vec(v)**2\n",
    "    \n",
    "    # Create the projection matrix using the outer product of v\n",
    "    H = np.outer(v, v) / v_norm_sq\n",
    "    \n",
    "    # Compute the parallel component of a\n",
    "    a_parallel = H @ a\n",
    "    \n",
    "    # Compute the orthogonal (perpendicular) component\n",
    "    a_perpendicular = a - a_parallel\n",
    "    \n",
    "    return {'a_parallel': , 'a_perpendicular': }\n"
   ]
  },
  {
   "cell_type": "markdown",
   "id": "923afa28-a1f6-46e8-bb9c-b51c427752b3",
   "metadata": {},
   "source": [
    "Provide predictions for each of these computations and then run them to make sure you're correct."
   ]
  },
  {
   "cell_type": "code",
   "execution_count": null,
   "id": "2bf93752-a0a0-42e0-975a-43f01e967011",
   "metadata": {},
   "outputs": [],
   "source": [
    "# Test 1:\n",
    "print(\"Test 1: orthogonal_projection([1,2,3,4], [1,2,3,4])\")\n",
    "result1 = orthogonal_projection()\n",
    "print(\"a_parallel:\")\n",
    "print(result1[])        # Expected: [1, 2, 3, 4]\n",
    "print(\"a_perpendicular:\")\n",
    "print(result1[])     # Expected: [0, 0, 0, 0]\n",
    "\n",
    "# Test 2:\n",
    "print(\"\\nTest 2: orthogonal_projection([1,2,3,4], [0,2,0,-1])\")\n",
    "result2 = \n",
    "print(\"a_parallel:\")\n",
    "print(result2[])          # Expected: [0, 0, 0, 0]\n",
    "print(\"a_perpendicular:\")\n",
    "print(result2[])       # Expected: [1, 2, 3, 4]\n",
    "\n",
    "# Test 3:\n",
    "print(\"\\nTest 3: result = orthogonal_projection([2,6,7,3], [1,3,5,7]*37)\")\n",
    "# Multiply [1,3,5,7] by 37 and project\n",
    "v3 = np.array() \n",
    "result3 = \n",
    "\n",
    "# Compute dot product between a_parallel and a_perpendicular (should be near 0)\n",
    "dot_product = np.dot(result3[], result3[])\n",
    "print(\"Dot product (should be near 0):\", dot_product)\n",
    "\n",
    "# Sum of parallel and perpendicular components should return the original vector.\n",
    "sum_vector = ]\n",
    "print(\"Sum (should equal original vector [2,6,7,3]):\")\n",
    "print(sum_vector)\n",
    "\n",
    "# Compute the \"percentage\" of the projection relative to v3.\n",
    "percentage = \n",
    "print(\"a_parallel divided by ([1,3,5,7]*37) (percentage of projection):\")\n",
    "print(percentage)\n"
   ]
  },
  {
   "cell_type": "markdown",
   "id": "998085c4-9b18-402e-a8b4-4a91cc882b46",
   "metadata": {},
   "source": [
    "Create a vector y by simulating n = 100 standard iid normals. Create a matrix of size 100 x 2 and populate the first column by all ones (for the intercept) and the second column by 100 standard iid normals. Find the R^2 of an OLS regression of `y ~ X`. Use matrix algebra."
   ]
  },
  {
   "cell_type": "code",
   "execution_count": null,
   "id": "1f1779d5-c6e5-4670-832a-a47634752b35",
   "metadata": {},
   "outputs": [],
   "source": [
    "import numpy as np\n",
    "\n",
    "# Set seed for reproducibility\n",
    "np.random.seed(123)\n",
    "\n",
    "# Simulate data\n",
    "n = 100\n",
    "y = np.random.randn(n, 1)  # y as a column vector (100 x 1)\n",
    "X = np.hstack((np.ones((n, 1)), np.random.randn(n, 1)))  # X as 100 x 2 matrix\n",
    "\n",
    "# Compute OLS coefficients: beta_hat = (X'X)^{-1} X'y\n",
    "beta_hat = np.linalg.inv(X.T @ X) @ X.T @ y\n",
    "\n",
    "# Compute the hat matrix H = X (X'X)^{-1} X'\n",
    "H = X @ np.linalg.inv(X.T @ X) @ X.T\n",
    "\n",
    "# Identity matrix of size n\n",
    "I = np.eye(n)\n",
    "\n",
    "# Compute SSR (Residual Sum of Squares) using matrix algebra: SSR = y' (I - H) y\n",
    "SSR = (y.T @ (I - H) @ y).item() #.item() will grab the value out of the array \n",
    "\n",
    "# Define the centering matrix: M = I - (1/n) * 11'\n",
    "M = I - (1/n) * np.ones((n, n))\n",
    "\n",
    "# Compute SST (Total Sum of Squares) using matrix algebra: SST = y' M y\n",
    "SST = (y.T @ M @ y).item() \n",
    "\n",
    "# Calculate R-squared\n",
    "R2 = 1 - SSR / SST\n",
    "\n",
    "# Print the results\n",
    "print(\"SSR:\", SSR)\n",
    "print(\"SST:\", SST)\n",
    "print(\"R^2:\", R2)"
   ]
  },
  {
   "cell_type": "markdown",
   "id": "59b19394-0558-4670-86e0-2d9295ae1243",
   "metadata": {},
   "source": [
    "Write a for loop to each time bind a new column of 100 standard iid normals to the matrix X and find the R^2 each time until the number of columns is 100. Create a vector to save all R^2's. What happened??"
   ]
  },
  {
   "cell_type": "code",
   "execution_count": null,
   "id": "736b27a0-df6f-447c-8e78-f3c443e2e3a4",
   "metadata": {},
   "outputs": [],
   "source": [
    "import numpy as np\n",
    "\n",
    "# Set seed for reproducibility\n",
    "np.random.seed(123)\n",
    "\n",
    "# Simulate data\n",
    "n = 100\n",
    "y = np.random.randn(n)  # response vector (100,)\n",
    "\n",
    "# Start with an intercept-only matrix X (100 x 1)\n",
    "X = np.ones((n, 1))\n",
    "\n",
    "# Pre-allocate a list to save R^2 values (one for each model size)\n",
    "R2_list = []\n",
    "\n",
    "# Loop until the number of columns in X is 100\n",
    "# First iteration: intercept only; then add one new column per iteration.\n",
    "for i in range(100):\n",
    "    # For iterations after the first, bind a new column of iid normals.\n",
    "    if i > 0:\n",
    "        new_column = np.random.randn(n, 1)\n",
    "        X = np.hstack((X, new_column))\n",
    "    \n",
    "    # Compute OLS coefficients using the normal equation: beta_hat = (X'X)^{-1} X'y\n",
    "    beta_hat = np.linalg.inv(X.T @ X) @ (X.T @ y)\n",
    "    \n",
    "    # Compute fitted values\n",
    "    y_hat = X @ beta_hat\n",
    "    \n",
    "    # Compute Total Sum of Squares (SST) and Residual Sum of Squares (SSR)\n",
    "    SST = np.sum((y - np.mean(y))**2)\n",
    "    SSR = np.sum((y - y_hat)**2)\n",
    "    \n",
    "    # Calculate R-squared and store it\n",
    "    R2 = 1 - SSR / SST\n",
    "    R2_list.append(R2)\n",
    "\n",
    "# Print the vector of R^2 values\n",
    "print(\"R^2 values for models with 1 to 100 columns:\")\n",
    "print(R2_list)"
   ]
  },
  {
   "cell_type": "markdown",
   "id": "81287175-3680-42bb-9125-67b175c53424",
   "metadata": {},
   "source": [
    "What happened? As more predictors are added, even if they are just noise, the R2 generally increases, relfecting that the model is overfitting the data."
   ]
  },
  {
   "cell_type": "markdown",
   "id": "1e99824f-7049-4057-bfa8-5659a13e3aa4",
   "metadata": {},
   "source": [
    "Test that the projection matrix onto this X is the same as I_n."
   ]
  },
  {
   "cell_type": "code",
   "execution_count": null,
   "id": "50f24d3f-c93d-4104-937d-e4ec12a072e0",
   "metadata": {},
   "outputs": [],
   "source": [
    "# Compute the projection matrix: P = X (X'X)^{-1} X'\n",
    "P = \n",
    "\n",
    "# Define the 100 x 100 identity matrix\n",
    "I_n = \n",
    "\n",
    "# Test that the projection matrix P equals the identity matrix.\n",
    "if :\n",
    "    print(\"Projection matrix P equals the identity matrix I_n.\")\n",
    "else:\n",
    "    print(\"Projection matrix P does NOT equal the identity matrix I_n.\")\n",
    "\n",
    "# Alternatively, use an assertion to ensure they are equal\n",
    "assert np.allclose(), \"Projection matrix does not equal identity matrix!\""
   ]
  },
  {
   "cell_type": "markdown",
   "id": "0877001c-87e9-46f6-ae2f-29a265b9ba43",
   "metadata": {},
   "source": [
    "Add one final column to X to bring the number of columns to 101. Then try to compute R^2. What happens? "
   ]
  },
  {
   "cell_type": "code",
   "execution_count": null,
   "id": "eb942568-2bf2-4960-99dc-37a2c39d5a97",
   "metadata": {},
   "outputs": [],
   "source": [
    "# Now add one final column to bring the number of columns to 101.\n",
    "extra_col = \n",
    "X_new =   # X_new is 100 x 101\n",
    "\n",
    "# Try to compute OLS coefficients; catch the error if X.T @ X is singular.\n",
    "try:\n",
    "    beta_hat = np.linalg.inv(X_new.T @ X_new) @ (X_new.T @ y)\n",
    "    y_hat = X_new @ beta_hat\n",
    "    SST = np.sum((y - np.mean(y))**2)\n",
    "    SSR = np.sum((y - y_hat)**2)\n",
    "    R2 =\n",
    "    print(\"R^2:\")\n",
    "except np.linalg.LinAlgError as e:\n",
    "    print(\"Error in computing beta_hat:\",)\n",
    "    print(\"Could not compute R^2 because X'X is singular.\")"
   ]
  },
  {
   "cell_type": "markdown",
   "id": "f2564094-7ac8-4061-adea-fbdaa1a79a82",
   "metadata": {},
   "source": [
    "Why does this make sense?"
   ]
  },
  {
   "cell_type": "markdown",
   "id": "cc6b14cc-d0b1-4d19-9633-1cdff50bf579",
   "metadata": {},
   "source": []
  },
  {
   "cell_type": "markdown",
   "id": "c73d693a-5e8d-4efd-8dd7-ee5b840584b9",
   "metadata": {},
   "source": [
    "Let's use the Boston Housing Data for the following exercises"
   ]
  },
  {
   "cell_type": "code",
   "execution_count": null,
   "id": "0f9e3875-f26e-4e36-addb-dc79442a6fb2",
   "metadata": {},
   "outputs": [],
   "source": [
    "import pandas as pd\n",
    "import numpy as np\n",
    "import statsmodels.api as sm\n",
    "\n",
    "# Load the Boston housing data from the provided URL\n",
    "data_url = \"http://lib.stat.cmu.edu/datasets/boston\"\n",
    "raw_df = pd.read_csv(data_url, sep=r\"\\s+\", skiprows=22, header=None)\n",
    "\n",
    "# The dataset from this URL is arranged so that every two rows correspond to one observation:\n",
    "# - The first row of each pair contains the 13 predictors.\n",
    "# - The second row contains (among other entries) the response (medv) in the third column.\n",
    "# Also, the first two columns of the second row are duplicates of the last two predictors.\n",
    "#\n",
    "# To mimic R’s model.matrix(medv ~ ., MASS::Boston), we construct the predictors by:\n",
    "# 1. Taking all 13 predictors from the first row of each pair.\n",
    "# 2. Appending the first two entries from the second row (which complete the predictors).\n",
    "#\n",
    "# This creates a full set of predictors for each observation.\n",
    "X_data = np.hstack([raw_df.values[::2, :], raw_df.values[1::2, :2]])\n",
    "\n",
    "# The response y is stored in the third column of the second row of each pair.\n",
    "y = raw_df.values[1::2, 2]\n",
    "\n",
    "# Add an intercept column (like R's model.matrix does automatically)\n",
    "X = sm.add_constant(X_data)\n",
    "\n",
    "# p_plus_one is the number of columns in X (predictors plus intercept)\n",
    "p_plus_one = X.shape[1]\n",
    "# n is the number of observations (rows in X)\n",
    "n = X.shape[0]\n",
    "\n",
    "print(\"Number of predictors (including intercept):\", p_plus_one)\n",
    "print(\"Number of observations:\", n)\n"
   ]
  },
  {
   "cell_type": "markdown",
   "id": "6f7c1a4b-da46-4b6d-a118-6d555303ef15",
   "metadata": {},
   "source": [
    "Using your function `orthogonal_projection` orthogonally project onto the column space of X by projecting y on each vector of X individually and adding up the projections and call the sum `yhat_naive`."
   ]
  },
  {
   "cell_type": "code",
   "execution_count": null,
   "id": "d6877ea9-b7b7-45a0-a7aa-e3eea9911088",
   "metadata": {},
   "outputs": [],
   "source": [
    "# Initialize yhat_naive as a zero vector (same shape as y)\n",
    "yhat_naive \n",
    "\n",
    "# For each column in X, project y onto that column and add the projection.\n",
    "for j in range():\n",
    "    # Note: X[:, j] is a 1D array of length n.\n",
    "    proj = \n",
    "    yhat_naive += proj[]"
   ]
  },
  {
   "cell_type": "markdown",
   "id": "0f46e13e-3846-4cae-904e-05db448815fb",
   "metadata": {},
   "source": [
    "How much double counting occurred? Measure the magnitude relative to the true LS orthogonal projection"
   ]
  },
  {
   "cell_type": "code",
   "execution_count": null,
   "id": "4b81a208-d76e-4b52-9df6-d828148b6f26",
   "metadata": {},
   "outputs": [],
   "source": [
    "import statsmodels.api as sm\n",
    "\n",
    "# Fit the OLS model using statsmodels\n",
    "model = sm.OLS(y, X).fit()\n",
    "\n",
    "# Extract the fitted values (equivalent to lm(medv ~ ., MASS::Boston)$fitted.values in R)\n",
    "yhat \n",
    "mag_ratio = np.sqrt()\n",
    "print(\"Magnitude ratio (sqrt(sum(yhat_naive^2))/sqrt(sum(yhat^2))):\", mag_ratio)"
   ]
  },
  {
   "cell_type": "markdown",
   "id": "db340f11-194f-4236-9eb4-b02385a62027",
   "metadata": {},
   "source": [
    "Is this ratio expected? Why or why not?"
   ]
  },
  {
   "cell_type": "markdown",
   "id": "bf111525-6ff3-4f23-a2b0-ee48e8fdba59",
   "metadata": {},
   "source": [
    "In summary, the ratio is expected to deviate from 1 because the sum of individual (non-orthogonal) projections overestimates the overall projection onto the column space, leading to a larger magnitude for the naive projection compared to the true LS projection."
   ]
  },
  {
   "cell_type": "markdown",
   "id": "3c61bf97-44ee-41ac-a3bb-ccbebb3c3dd5",
   "metadata": {},
   "source": [
    "Convert X into V where V has the same column space as X but has orthogonal columns. You can use the function `orthogonal_projection`. This is the Gram-Schmidt orthogonalization algorithm (part A)."
   ]
  },
  {
   "cell_type": "code",
   "execution_count": null,
   "id": "e7c953a6-710b-4565-83b2-08c651f92490",
   "metadata": {},
   "outputs": [],
   "source": [
    "# Initialize V to hold the orthogonalized columns; same shape as X.\n",
    "V = np.empty_like(X)\n",
    "\n",
    "# The first column of V is just the first column of X.\n",
    "V[:, 0] = X[:, 0]\n",
    "\n",
    "# For each subsequent column of X, subtract the projections onto all previous V columns.\n",
    "for j in range():\n",
    "    # Start with the original column from X.\n",
    "    V[:, j] = X[:, j].copy()\n",
    "    for k in range(j):\n",
    "        \n"
   ]
  },
  {
   "cell_type": "markdown",
   "id": "f26ba41e-ec46-4966-9ae2-30b95dcd322b",
   "metadata": {},
   "source": [
    "Convert V into Q whose columns are the same except normalized. This is the Gram-Schmidt orthogonalization algorithm (part B)."
   ]
  },
  {
   "cell_type": "code",
   "execution_count": null,
   "id": "9f9bbc2e-bacb-4106-856a-74013615c745",
   "metadata": {},
   "outputs": [],
   "source": [
    "# Assume V is already defined with shape (n, p_plus_one)\n",
    "\n",
    "# Optionally, remove V if you no longer need it.\n",
    "del V"
   ]
  },
  {
   "cell_type": "markdown",
   "id": "c587a626-aae5-4295-81a4-c014d55a0441",
   "metadata": {},
   "source": [
    "Verify Q^T Q is I_{p+1} i.e. Q is an orthonormal matrix."
   ]
  },
  {
   "cell_type": "code",
   "execution_count": null,
   "id": "5c70bb05-8afa-4f6d-9e6e-6c365a113ad7",
   "metadata": {},
   "outputs": [],
   "source": [
    "# Verify that Q^T Q is the identity matrix of size p_plus_one\n",
    "\n",
    "\n",
    "print(\"Q^T Q equals the identity matrix, Q is orthonormal.\")"
   ]
  },
  {
   "cell_type": "markdown",
   "id": "ad012fab-f233-4a7d-b8b4-c7d5030b1f97",
   "metadata": {},
   "source": [
    "Is your Q the same as what results from R's built-in QR-decomposition function?"
   ]
  },
  {
   "cell_type": "code",
   "execution_count": null,
   "id": "26df14a5-db7d-4baf-bf3f-ac11a70521fc",
   "metadata": {},
   "outputs": [],
   "source": [
    "# Compute the Q matrix using NumPy's QR decomposition.\n",
    "# np.linalg.qr returns (Q, R)\n",
    "\n",
    "\n",
    "# Because QR decomposition can produce Q whose columns differ by a sign,\n",
    "# we compare the absolute values of Q and Q_from_builtin.\n",
    "if :\n",
    "    print(\"Q matches the built-in QR decomposition Q (up to sign differences).\")\n",
    "else:\n",
    "    print(\"Q does not match the built-in QR decomposition Q.\")"
   ]
  },
  {
   "cell_type": "code",
   "execution_count": null,
   "id": "c2b6ee10-d06e-4f31-9f16-af11a9775dee",
   "metadata": {},
   "outputs": [],
   "source": [
    "if :\n",
    "    print(\"Q matches the built-in QR decomposition Q (up to sign differences).\")\n",
    "else:\n",
    "    print(\"Q does not match the built-in QR decomposition Q.\")"
   ]
  },
  {
   "cell_type": "markdown",
   "id": "190ac792-5397-437d-9282-6516ae05e7e2",
   "metadata": {},
   "source": [
    "Is this expected? Why did this happen?"
   ]
  },
  {
   "cell_type": "markdown",
   "id": "d5ee2c88-f5dc-4c7d-8241-eb9f2295c407",
   "metadata": {},
   "source": [
    "Yes this is expected because there are an infinite number of orthonormal basis of any column space and the likelihood of them being equal is highly unlikely.  \n",
    "There are many different orthonormal basis of any column space. "
   ]
  },
  {
   "cell_type": "markdown",
   "id": "91635448-669c-4f1a-ab75-4fe76c5f339a",
   "metadata": {},
   "source": [
    "Project y onto colsp[Q] and verify it is the same as the OLS fit."
   ]
  },
  {
   "cell_type": "code",
   "execution_count": null,
   "id": "8a6ddf2c-c1bb-4c6a-8023-e2e7666ad9cf",
   "metadata": {},
   "outputs": [],
   "source": [
    "# Assume y, X, and Q are already defined.\n",
    "# Compute the OLS fitted values using statsmodels (similar to lm(y ~ X) in R)\n",
    "\n",
    "# Project y onto the column space of Q: compute Q @ Q.T @ y\n",
    "y_hat_from_Q = \n",
    "\n",
    "# Compare the two. Since the values may have slight numerical differences, use np.allclose.\n",
    "if :\n",
    "    print(\"The projection of y onto colsp[Q] equals the OLS fit.\")\n",
    "else:\n",
    "    print(\"There is a discrepancy between the projection and the OLS fit.\")\n",
    "\n",
    "# Optionally, you can print the difference:\n",
    "print(\"Difference:\", )"
   ]
  },
  {
   "cell_type": "markdown",
   "id": "b33be031-6ec3-4d45-b74c-baf3269d0997",
   "metadata": {},
   "source": [
    "Project y onto colsp[Q] one by one and verify it sums to be the projection onto the whole space."
   ]
  },
  {
   "cell_type": "code",
   "execution_count": null,
   "id": "17ec740d-6bd8-4155-ad3d-203a277984ba",
   "metadata": {},
   "outputs": [],
   "source": [
    "# Compute the naive projection: project y onto each column of Q and sum.\n",
    "yhat_naive = \n",
    "\n",
    "for  in range():\n",
    "    \n",
    "    yhat_naive =\n",
    "              \n",
    "# Compute the full projection using the projection matrix H.\n",
    "# Since Q is orthonormal, Q.T @ Q equals the identity matrix.\n",
    "H = Q @ Q.T  # Equivalent to Q @ np.linalg.inv(Q.T @ Q) @ Q.T\n",
    "\n",
    "# Verify that H @ y is the same as yhat_naive.\n",
    "if :\n",
    "    print(\"The naive projection equals the full projection.\")\n",
    "else:\n",
    "    print(\"There is a discrepancy between the projections.\")\n",
    "\n",
    "# Optionally, to mimic R's expect_equal with unname:\n",
    "print(\"Difference:\", )"
   ]
  },
  {
   "cell_type": "markdown",
   "id": "00bbb76d-1108-40bf-99c1-8eaf8ab3ba38",
   "metadata": {},
   "source": [
    "Split the Boston Housing Data into a training set and a test set where the training set is 80% of the observations. Do so at random."
   ]
  },
  {
   "cell_type": "code",
   "execution_count": null,
   "id": "59951734-a620-484b-9902-8bdd49d8c1c4",
   "metadata": {},
   "outputs": [],
   "source": [
    "# Assume n, X, and y are already defined. For example:\n",
    "# n = X.shape[0]\n",
    "# (Make sure X is a NumPy array and y is a 1D array or similar.)\n",
    "\n",
    "\n",
    "\n",
    "print(\"X_train shape:\", X_train.shape)\n",
    "print(\"X_test shape:\", X_test.shape)\n",
    "print(\"y_train length:\", len(y_train))\n",
    "print(\"y_test length:\", len(y_test))\n"
   ]
  },
  {
   "cell_type": "markdown",
   "id": "d3e2cf23-efeb-430e-a04f-c361cde984f5",
   "metadata": {},
   "source": [
    "Fit an OLS model. Find the s_e in sample and out of sample. Which one is greater? Note: we are now using s_e and not RMSE since RMSE has the n-(p + 1) in the denominator not n-1 which attempts to de-bias the error estimate by inflating the estimate when overfitting in high p. Again, we're just using `sd(e)`, the sample standard deviation of the residuals."
   ]
  },
  {
   "cell_type": "code",
   "execution_count": null,
   "id": "80db879f-35ca-4023-9a30-7fa09ff1bcb6",
   "metadata": {},
   "outputs": [],
   "source": [
    "# Fit the OLS model on the training set.\n",
    "# (Assume X_train and y_train have already been defined,\n",
    "# and that X_train already includes a constant column if needed.)\n",
    "model = sm.OLS(y_train, X_train).fit()\n",
    "\n",
    "\n",
    "\n",
    "print(\"In-sample s_e (sample SD of residuals):\", in_sample_se)\n",
    "print(\"Out-of-sample s_e (sample SD of residuals):\", out_sample_se)\n",
    "\n",
    "# Typically, the out-of-sample s_e will be greater than the in-sample s_e."
   ]
  },
  {
   "cell_type": "markdown",
   "id": "2f02f4a0-209b-466c-ab17-ec7474bcb2f4",
   "metadata": {},
   "source": [
    "Do these two exercises `Nsim = 1000` times and find the average difference between s_e and ooss_e."
   ]
  },
  {
   "cell_type": "code",
   "execution_count": null,
   "id": "a50414fb-9dc6-4c73-a540-534699b1df68",
   "metadata": {},
   "outputs": [],
   "source": [
    "# Assume n, X, and y are already defined.\n",
    "# Here, n is the total number of observations.\n",
    "# X is the design matrix and y is the response vector.\n",
    "# For consistency with the R code (which uses '+0'), we will fit the model without a constant.\n",
    "# If X already has a constant column, you might need to remove it; here we assume X does NOT include one.\n",
    "\n",
    "\n",
    "    # Predict on the test set\n",
    "    y_hat_test = \n",
    "    \n",
    "    # Compute out-of-sample standard error (sample standard deviation of test residuals)\n",
    "    oosSSE_array[i] = \n",
    "    # Compute in-sample standard error (sample standard deviation of residuals from the training fit)\n",
    "    s_e_array[i] = \n",
    "\n",
    "# Compute the average difference between in-sample and out-of-sample s_e\n",
    "mean_diff = \n",
    "print(\"Average difference (s_e - ooss_e):\", mean_diff)\n"
   ]
  },
  {
   "cell_type": "markdown",
   "id": "c2aafa5f-d4c5-4fdb-a139-98e3a6154f86",
   "metadata": {},
   "source": [
    "We'll now add random junk to the data so that `p_plus_one = n_train` and create a new data matrix `X_with_junk.`"
   ]
  },
  {
   "cell_type": "code",
   "execution_count": null,
   "id": "b2b38a88-f31a-46e9-aedd-d2eec495f47d",
   "metadata": {},
   "outputs": [],
   "source": [
    "# Assume X, n, n_train, and p_plus_one are already defined.\n",
    "# Create the junk matrix: with n rows and (n_train - p_plus_one) columns.\n",
    "junk = \n",
    "\n",
    "# Concatenate X and the junk matrix horizontally\n",
    "X_with_junk = \n",
    "\n",
    "# Print dimensions\n",
    "print(\"X shape:\", )\n",
    "print(\"X_with_junk shape:\", )"
   ]
  },
  {
   "cell_type": "markdown",
   "id": "acafda18-b5bc-4911-aea4-90a2d1d27e3d",
   "metadata": {},
   "source": [
    "Repeat the exercise above measuring the average s_e and ooss_e but this time record these metrics by number of features used. That is, do it for the first column of `X_with_junk` (the intercept column), then do it for the first and second columns, then the first three columns, etc until you do it for all columns of `X_with_junk`. Save these in `s_e_by_p` and `ooss_e_by_p`."
   ]
  },
  {
   "cell_type": "code",
   "execution_count": null,
   "id": "2ef7cef0-29a4-48fe-81e8-7808dd9e011d",
   "metadata": {},
   "outputs": [],
   "source": [
    "K = 5  # Test set is 1/5 of the data\n",
    "n_test = \n",
    "n_train = \n",
    "Nsim = \n",
    "\n",
    "num_features\n",
    "\n",
    "\n",
    "\n",
    "# Loop over model sizes (using the first j columns of X_with_junk)\n",
    "for j in range(1, num_features + 1):\n",
    "    oosSSE_array \n",
    "    s_e_array \n",
    "    \n",
    "    for i in range(Nsim):\n",
    "        # Generate random test indices without replacement (0-indexed)\n",
    "        all_indices = \n",
    "        test_indices = \n",
    "        train_indices = \n",
    "        \n",
    "        # Subset the data using the first j columns\n",
    "       \n",
    "        # Fit an OLS model with no intercept (like lm(... + 0) in R)\n",
    "        model = \n",
    "        \n",
    "        # Predict on the test set\n",
    "        y_hat_test = model.predict(X_test)\n",
    "        \n",
    "        # Compute the sample standard deviation (ddof=1) of residuals\n",
    "        oosSSE_array[i] = np.std(y_test - y_hat_test, ddof=1)\n",
    "        s_e_array[i] = np.std(model.resid, ddof=1)\n",
    "    \n",
    "    # Record the average errors for model size j\n",
    "  \n",
    "\n",
    "print(\"Average out-of-sample s_e by number of features:\")\n",
    "print(ooss_e_by_p)\n",
    "print(\"Average in-sample s_e by number of features:\")\n",
    "print(s_e_by_p)"
   ]
  },
  {
   "cell_type": "markdown",
   "id": "fb20846e-3625-4081-9ea6-74e977e8af8e",
   "metadata": {},
   "source": [
    "You can graph them here:"
   ]
  },
  {
   "cell_type": "code",
   "execution_count": null,
   "id": "d689dae8-a476-46f0-9540-86cd78005c6e",
   "metadata": {},
   "outputs": [],
   "source": [
    "import pandas as pd\n",
    "from plotnine import ggplot, aes, geom_line, labs, theme_minimal\n",
    "\n",
    "# Create data frames for the in-sample and out-of-sample standard errors.\n",
    "df_in = pd.DataFrame({\n",
    "    \n",
    "})\n",
    "df_out = pd.DataFrame({\n",
    "    \n",
    "})\n",
    "\n",
    "# Combine the two dataframes\n",
    "df = pd.concat( ignore_index=True)\n",
    "\n",
    "# Create the plot using plotnine\n",
    "plot = (ggplot(df, aes(x='p', y='s_e', color='series'))\n",
    "        + geom_line()\n",
    "        + labs(x='Number of features (p)',\n",
    "               y='s_e',\n",
    "               title='In-sample vs. Out-of-sample s_e by number of features')\n",
    "        + theme_minimal()\n",
    "       )\n",
    "\n",
    "plot"
   ]
  },
  {
   "cell_type": "markdown",
   "id": "503c5d83-d874-4717-8d94-89324d3537ba",
   "metadata": {},
   "source": [
    "Is this shape expected? Explain."
   ]
  },
  {
   "cell_type": "markdown",
   "id": "623ef063-4883-4258-997c-f017a5123742",
   "metadata": {},
   "source": [
    "Yes this shape is expected because as we add more features the in-sample error will decrease due to the the model fitting the additional features and data. However, the out of sample error will start to get worse due to the over-fitting that is occurring. This will lead to a worse modle that produces worse predictions for data that is out of sample. "
   ]
  },
  {
   "cell_type": "markdown",
   "id": "8229ba1f-a813-467d-8a86-6ac3b9112cd3",
   "metadata": {},
   "source": [
    "Now repeat the exercise above except use 5-fold CV (K=5 cross validation) for each p. The code below will also plot the oos RMSE. This oos RMSE curve should be similar to the curve in the above problem, but now it will be more stable. "
   ]
  },
  {
   "cell_type": "code",
   "execution_count": null,
   "id": "c13c8bc3-63a8-4dd7-90d9-5aa952b96aa3",
   "metadata": {},
   "outputs": [],
   "source": [
    "# Assume n, y, and X_with_junk are already defined.\n",
    "# Let p_max be the total number of features (columns) in X_with_junk.\n",
    "p_max = \n",
    "\n",
    "K = 5\n",
    "n_test = \n",
    "\n",
    "# Create a folds array: assign each observation to one of K folds.\n",
    "# Replicate 1:K enough times, then shuffle.\n",
    "folds = np.tile()[:]\n",
    "np.random.shuffle()\n",
    "\n",
    "# Initialize a matrix to store the out-of-sample RMSE for each model size and fold.\n",
    "ooss_e_by_p_k = \n",
    "\n",
    "for j in range():\n",
    "    for k in range():\n",
    "        # Get test and train indices for fold k\n",
    "        test_indices = \n",
    "        train_indices = \n",
    "        \n",
    "        # Subset the data using the first j columns of X_with_junk\n",
    "        \n",
    "        \n",
    "        # Fit an OLS model with no intercept (mirroring R's '+ 0')\n",
    "        model = \n",
    "        y_hat = \n",
    "        \n",
    "        # Compute RMSE for this fold and model size\n",
    "        ooss_e_by_p_k[] = np.sqrt()\n",
    "\n",
    "# For each model size (row), compute the standard deviation of the RMSE over the K folds.\n",
    "s_e_by_p = np.std()\n",
    "\n",
    "# Create a DataFrame for plotting\n",
    "df_plot = \n",
    "\n",
    "# Plot using plotnine\n",
    "plot = (ggplot(df_plot, aes(x='p', y='s_e'))\n",
    "        + geom_line()\n",
    "        + labs(x=\"Number of Features\", y=\"OOS RMSE (sd)\", title=\"5-fold CV OOS RMSE vs. Number of Features\")\n",
    "        + theme_minimal())\n",
    "\n",
    "plot"
   ]
  },
  {
   "cell_type": "markdown",
   "id": "bee2321b-3537-4bb9-8b7e-f24fdf5c4419",
   "metadata": {},
   "source": [
    "Even though the concept of confidence intervals (CIs) will not be on the midterm, construct 95% CIs for each of the oosRMSE measurements by number of features, p. A CI is a real-number interval with a lower bound and upper bound. The formula for the CI is [s_e - 2 * s_s_e, s_e + 2 * s_s_e]."
   ]
  },
  {
   "cell_type": "code",
   "execution_count": null,
   "id": "06f25d85-53c0-4b1d-b4dc-6edb85664970",
   "metadata": {},
   "outputs": [],
   "source": [
    "# Compute the mean out-of-sample RMSE for each model size (row-wise mean)\n",
    "mean_oos = np.mean(ooss_e_by_p_k)\n",
    "\n",
    "# Compute the sample standard deviation for each model size (across simulations)\n",
    "sd_oos = np.std(ooss_e_by_p_k)\n",
    "\n",
    "# Construct the 95% confidence intervals\n",
    "CI_lower = \n",
    "CI_upper = \n",
    "\n",
    "# Create a DataFrame with the number of features and the CI bounds.\n",
    "# Assuming n_train is the number of features (columns in X_with_junk)\n",
    "df_CI = pd.DataFrame({\n",
    "    \n",
    "})\n",
    "\n",
    "print(df_CI)"
   ]
  }
 ],
 "metadata": {
  "kernelspec": {
   "display_name": "Python 3 (ipykernel)",
   "language": "python",
   "name": "python3"
  },
  "language_info": {
   "codemirror_mode": {
    "name": "ipython",
    "version": 3
   },
   "file_extension": ".py",
   "mimetype": "text/x-python",
   "name": "python",
   "nbconvert_exporter": "python",
   "pygments_lexer": "ipython3",
   "version": "3.12.7"
  }
 },
 "nbformat": 4,
 "nbformat_minor": 5
}
